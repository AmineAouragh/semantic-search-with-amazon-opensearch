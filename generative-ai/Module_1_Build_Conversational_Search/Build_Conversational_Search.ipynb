{
 "cells": [
  {
   "cell_type": "markdown",
   "id": "aede8483",
   "metadata": {},
   "source": [
    "# Build the Conversational Search Building Blocks"
   ]
  },
  {
   "attachments": {},
   "cell_type": "markdown",
   "id": "e93f41d1",
   "metadata": {},
   "source": [
    "<div>\n",
    "<img src=\"module1/all_components.png\", width=\"800\"/>\n",
    "</div>"
   ]
  },
  {
   "cell_type": "markdown",
   "id": "c01dbffe",
   "metadata": {},
   "source": [
    "## Get the Cloudformation outputs"
   ]
  },
  {
   "cell_type": "code",
   "execution_count": 3,
   "id": "8e34e89e",
   "metadata": {},
   "outputs": [
    {
     "data": {
      "text/plain": [
       "[{'OutputKey': 'EmbeddingEndpointName',\n",
       "  'OutputValue': 'opensearch-gen-ai-embedding-gpt-j-6b-ddafa2a0',\n",
       "  'Description': 'Name of the LLM endpoint'},\n",
       " {'OutputKey': 'S3BucketSecureURL',\n",
       "  'OutputValue': 'https://semantic-search-gpu-s3buckethosting-h5ih9fpt8gtc.s3.amazonaws.com',\n",
       "  'Description': 'Name of S3 bucket to hold website content'},\n",
       " {'OutputKey': 'WebAppURL',\n",
       "  'OutputValue': 'http://35.173.253.41:8501/',\n",
       "  'Description': 'web app URL'},\n",
       " {'OutputKey': 'SageMakerNotebookURL',\n",
       "  'OutputValue': 'https://console.aws.amazon.com/sagemaker/home?region=us-east-1#/notebook-instances/openNotebook/semantic-search-nb?view=classic',\n",
       "  'Description': 'SageMaker Notebook Instance'},\n",
       " {'OutputKey': 'OpenSearchDomainName',\n",
       "  'OutputValue': 'opensearchservi-bzu7bbykwrmu',\n",
       "  'Description': 'OpenSearch domain name'},\n",
       " {'OutputKey': 'OpenSearchSecret',\n",
       "  'OutputValue': 'arn:aws:secretsmanager:us-east-1:005481197212:secret:OpenSearchSecret-semantic-search-gpu-O5wxOG',\n",
       "  'Description': 'Name of the OpenSearch secret in Secrets Manager'},\n",
       " {'OutputKey': 'OpenSourceDomainArn',\n",
       "  'OutputValue': 'arn:aws:es:us-east-1:005481197212:domain/opensearchservi-bzu7bbykwrmu',\n",
       "  'Description': 'OpenSearch domain ARN'},\n",
       " {'OutputKey': 'OpenSearchDomainEndpoint',\n",
       "  'OutputValue': 'search-opensearchservi-bzu7bbykwrmu-ku2ex6hlhojxbqxvk6pun5h47u.us-east-1.es.amazonaws.com',\n",
       "  'Description': 'OpenSearch domain endpoint'},\n",
       " {'OutputKey': 'LLMEndpointName',\n",
       "  'OutputValue': 'opensearch-gen-ai-llm-falcon-7b-bf16-ddafa2a0',\n",
       "  'Description': 'Name of the LLM endpoint'},\n",
       " {'OutputKey': 's3BucketTraining',\n",
       "  'OutputValue': 'semantic-search-gpu-s3buckettraining-p3bz6w9qx44y',\n",
       "  'Description': 'S3 bucket name for training'},\n",
       " {'OutputKey': 'DynamoDBTableName',\n",
       "  'OutputValue': 'conversation-history-memory',\n",
       "  'Description': 'Name of the DynamoDB table'},\n",
       " {'OutputKey': 'Region',\n",
       "  'OutputValue': 'us-east-1',\n",
       "  'Description': 'Deployed Region'},\n",
       " {'OutputKey': 'LLMAppAPIEndpoint',\n",
       "  'OutputValue': 'https://8zqzru4imk.execute-api.us-east-1.amazonaws.com/prod/',\n",
       "  'Description': 'API (prod) stage endpoint'},\n",
       " {'OutputKey': 's3BucketHostingBucketName',\n",
       "  'OutputValue': 'semantic-search-gpu-s3buckethosting-h5ih9fpt8gtc',\n",
       "  'Description': 'S3 bucket name for frontend hosting'}]"
      ]
     },
     "execution_count": 3,
     "metadata": {},
     "output_type": "execute_result"
    }
   ],
   "source": [
    "import boto3\n",
    "import time\n",
    "import json\n",
    "cfn = boto3.client('cloudformation')\n",
    "response = cfn.list_stacks(\n",
    "   StackStatusFilter=['CREATE_COMPLETE']\n",
    ")\n",
    "for cfns in response['StackSummaries']:\n",
    "    if('semantic-search' in cfns['StackName']):\n",
    "        stackname = cfns['StackName']\n",
    "stackname\n",
    "\n",
    "cfn_outputs = cfn.describe_stacks(StackName=stackname)['Stacks'][0]['Outputs']\n",
    "env_variables = {}\n",
    "cfn_outputs"
   ]
  },
  {
   "cell_type": "markdown",
   "id": "b5e2081a",
   "metadata": {},
   "source": [
    "## 1. OpenSearch Vector DB"
   ]
  },
  {
   "attachments": {},
   "cell_type": "markdown",
   "id": "e9c3a13e",
   "metadata": {},
   "source": [
    "<div>\n",
    "<img src=\"module1/vectordb.png\" width=\"600\"/>\n",
    "</div>"
   ]
  },
  {
   "cell_type": "code",
   "execution_count": 4,
   "id": "59187261",
   "metadata": {},
   "outputs": [
    {
     "name": "stdout",
     "output_type": "stream",
     "text": [
      "OpenSearch Version: OpenSearch_2.9\n",
      "\n",
      "OpenSearch Configuration\n",
      "------------------------\n",
      "\n",
      "{\n",
      "    \"InstanceType\": \"r6g.2xlarge.search\",\n",
      "    \"InstanceCount\": 1,\n",
      "    \"DedicatedMasterEnabled\": false,\n",
      "    \"ZoneAwarenessEnabled\": false,\n",
      "    \"WarmEnabled\": false,\n",
      "    \"ColdStorageOptions\": {\n",
      "        \"Enabled\": false\n",
      "    },\n",
      "    \"MultiAZWithStandbyEnabled\": false\n",
      "}\n"
     ]
    }
   ],
   "source": [
    "for output in cfn_outputs:\n",
    "    if('opensearch' in output['OutputKey'].lower()):\n",
    "        env_variables[output['OutputKey']] = output['OutputValue']\n",
    "        \n",
    "opensearch_ = boto3.client('opensearch')\n",
    "\n",
    "response = opensearch_.describe_domain(\n",
    "    DomainName=env_variables['OpenSearchDomainName']\n",
    ")\n",
    "\n",
    "print(\"OpenSearch Version: \"+response['DomainStatus']['EngineVersion']+\"\\n\")\n",
    "print(\"OpenSearch Configuration\\n------------------------\\n\")\n",
    "print(json.dumps(response['DomainStatus']['ClusterConfig'], indent=4))        "
   ]
  },
  {
   "cell_type": "markdown",
   "id": "b5358cdb",
   "metadata": {},
   "source": [
    "## 2. Embedding and LLM Endpoints"
   ]
  },
  {
   "attachments": {},
   "cell_type": "markdown",
   "id": "24f2cf0f",
   "metadata": {},
   "source": [
    "\n",
    "<div>\n",
    "<img src=\"module1/ml_models.png\" width=\"600\"/>\n",
    "</div>"
   ]
  },
  {
   "cell_type": "code",
   "execution_count": 5,
   "id": "d0c828c7",
   "metadata": {},
   "outputs": [
    {
     "name": "stdout",
     "output_type": "stream",
     "text": [
      "EmbeddingEndpointName : opensearch-gen-ai-embedding-gpt-j-6b-ddafa2a0\n",
      "------------------------------------------------\n",
      "{\n",
      "    \"VariantName\": \"opensearch-gen-ai-embedding-gpt-j-6b-model-ddafa2a0\",\n",
      "    \"ModelName\": \"opensearch-gen-ai-embedding-gpt-j-6b-model-ddafa2a0\",\n",
      "    \"InitialInstanceCount\": 1,\n",
      "    \"InstanceType\": \"ml.g5.2xlarge\",\n",
      "    \"InitialVariantWeight\": 1.0\n",
      "}\n",
      "LLMEndpointName : opensearch-gen-ai-llm-falcon-7b-bf16-ddafa2a0\n",
      "------------------------------------------------\n",
      "{\n",
      "    \"VariantName\": \"opensearch-gen-ai-llm-falcon-7b-bf16-ddafa2a0\",\n",
      "    \"ModelName\": \"opensearch-gen-ai-llm-falcon-7b-bf16-ddafa2a0\",\n",
      "    \"InitialInstanceCount\": 1,\n",
      "    \"InstanceType\": \"ml.g5.4xlarge\",\n",
      "    \"InitialVariantWeight\": 1.0\n",
      "}\n"
     ]
    }
   ],
   "source": [
    "sagemaker_ = boto3.client('sagemaker')\n",
    "\n",
    "for output in cfn_outputs:\n",
    "    if('endpointname' in output['OutputKey'].lower()):\n",
    "        env_variables[output['OutputKey']] = output['OutputValue']\n",
    "        print(output['OutputKey'] + \" : \"+output['OutputValue']+\"\\n\"+\"------------------------------------------------\")\n",
    "        print(json.dumps(sagemaker_.describe_endpoint_config(EndpointConfigName = sagemaker_.describe_endpoint(\n",
    "    EndpointName=output['OutputValue']\n",
    "                            )['EndpointConfigName'])['ProductionVariants'][0],indent = 4))\n",
    "        "
   ]
  },
  {
   "cell_type": "markdown",
   "id": "b69420c4",
   "metadata": {},
   "source": [
    "## 3. Memory Store"
   ]
  },
  {
   "attachments": {},
   "cell_type": "markdown",
   "id": "6a789f24",
   "metadata": {},
   "source": [
    "<div>\n",
    "<img src=\"module1/memory.png\" width=\"600\"/>\n",
    "</div>"
   ]
  },
  {
   "cell_type": "code",
   "execution_count": 6,
   "id": "616b4a1d",
   "metadata": {},
   "outputs": [
    {
     "name": "stdout",
     "output_type": "stream",
     "text": [
      "dynamo DB Table, 'conversation-history-memory' is created\n"
     ]
    }
   ],
   "source": [
    "dynamo = boto3.client('dynamodb')\n",
    "\n",
    "response = dynamo.create_table(\n",
    "    TableName='conversation-history-memory',\n",
    "    AttributeDefinitions=[\n",
    "        {\n",
    "            'AttributeName': 'SessionId',\n",
    "            'AttributeType': 'S',\n",
    "        }\n",
    "    ],\n",
    "    KeySchema=[\n",
    "        {\n",
    "            'AttributeName': 'SessionId',\n",
    "            'KeyType': 'HASH',\n",
    "        }\n",
    "    ],\n",
    "    ProvisionedThroughput={\n",
    "        'ReadCapacityUnits': 5,\n",
    "        'WriteCapacityUnits': 5,\n",
    "    }\n",
    ")\n",
    "env_variables['DynamoDBTableName'] = response['TableDescription']['TableName']\n",
    "\n",
    "print(\"dynamo DB Table, '\"+response['TableDescription']['TableName']+\"' is created\")\n"
   ]
  },
  {
   "cell_type": "markdown",
   "id": "780d8486",
   "metadata": {},
   "source": [
    "## 4. Document and Query Encoder"
   ]
  },
  {
   "attachments": {},
   "cell_type": "markdown",
   "id": "3163438a",
   "metadata": {},
   "source": [
    "<div>\n",
    "<img src=\"module1/encoders.png\" width=\"600\"/>\n",
    "</div>"
   ]
  },
  {
   "cell_type": "markdown",
   "id": "12c52a66",
   "metadata": {},
   "source": [
    "### 4.1 Package the dependant libraries and handler files for lambda functions"
   ]
  },
  {
   "cell_type": "code",
   "execution_count": 8,
   "id": "949dfd99",
   "metadata": {},
   "outputs": [],
   "source": [
    "%%capture\n",
    "\n",
    "# Download the Langchain module\n",
    "!aws s3 cp s3://ws-assets-prod-iad-r-gru-527b8c19222c1182/2108cfcf-6cd6-4613-83c0-db4e55998757/Langchain.zip .\n",
    "    \n",
    "# Create a folder for DocumentEncoder Lambda and unzip the Langchain.zip contents\n",
    "!mkdir -p documentEncoder\n",
    "!unzip -o Langchain.zip -d documentEncoder/\n",
    "!cp -f chain_documentEncoder.py main_documentEncoder.py documentEncoder/\n",
    "!cd documentEncoder && zip -r documentEncoder.zip *\n",
    "\n",
    "# Create a folder for QueryEncoder Lambda and unzip the Langchain.zip contents\n",
    "!mkdir -p queryEncoder\n",
    "!unzip -o Langchain.zip -d queryEncoder/\n",
    "!cp -f chain_queryEncoder.py main_queryEncoder.py queryEncoder/\n",
    "!cd queryEncoder && zip -r queryEncoder.zip *\n",
    "\n",
    "#Push Lambda artefacts to s3 bucket\n",
    "for output in cfn_outputs:\n",
    "    if('s3' in output['OutputKey'].lower()):\n",
    "        s3_bucket = output['OutputValue']\n",
    "\n",
    "\n",
    "!aws s3 cp documentEncoder/documentEncoder.zip s3://$s3_bucket\n",
    "!aws s3 cp queryEncoder/queryEncoder.zip s3://$s3_bucket\n",
    "    \n",
    "print(\"documentEncoder.zip and queryEncoder.zip pushed to \"+s3_bucket)"
   ]
  },
  {
   "cell_type": "markdown",
   "id": "d35cf91b",
   "metadata": {},
   "source": [
    "### 4.2 Create the IAM role for Lambda"
   ]
  },
  {
   "cell_type": "code",
   "execution_count": 9,
   "id": "8b0bdc2e",
   "metadata": {},
   "outputs": [
    {
     "data": {
      "text/plain": [
       "'arn:aws:iam::005481197212:role/LambdaRoleforSearch'"
      ]
     },
     "execution_count": 9,
     "metadata": {},
     "output_type": "execute_result"
    }
   ],
   "source": [
    "iam_ = boto3.client('iam')\n",
    "\n",
    "lambda_iam_role = iam_.create_role(\n",
    "    RoleName='LambdaRoleforSearch',\n",
    "    AssumeRolePolicyDocument='{\"Version\": \"2012-10-17\", \"Statement\": [{\"Effect\": \"Allow\", \"Principal\": {\"Service\": \"lambda.amazonaws.com\"}, \"Action\": \"sts:AssumeRole\"}]}',\n",
    "    Description='LLMApp Lambda Permissions',\n",
    "    \n",
    ")\n",
    "\n",
    "policies = [\n",
    "    'AmazonDynamoDBFullAccess',\n",
    "    'AmazonSagemakerFullAccess',\n",
    "    'AmazonS3FullAccess',\n",
    "    'AmazonOpenSearchServiceFullAccess',\n",
    "    'CloudWatchLogsFullAccess',\n",
    "    'SecretsManagerReadWrite']\n",
    "\n",
    "for policy in policies:\n",
    "    iam_.attach_role_policy(\n",
    "        RoleName='LambdaRoleforSearch',\n",
    "        PolicyArn='arn:aws:iam::aws:policy/'+policy\n",
    "    )\n",
    "time.sleep(5)    \n",
    "lambda_iam_role_arn = lambda_iam_role['Role']['Arn']\n",
    "lambda_iam_role_arn"
   ]
  },
  {
   "cell_type": "markdown",
   "id": "3276ad68",
   "metadata": {},
   "source": [
    "### 4.3 Deploy lambda functions"
   ]
  },
  {
   "cell_type": "code",
   "execution_count": 10,
   "id": "f7d6bfa0",
   "metadata": {},
   "outputs": [
    {
     "name": "stdout",
     "output_type": "stream",
     "text": [
      "arn:aws:lambda:us-east-1:005481197212:function:queryEncoder\n",
      "arn:aws:lambda:us-east-1:005481197212:function:documentEncoder\n"
     ]
    }
   ],
   "source": [
    "lambda_ = boto3.client('lambda')\n",
    "\n",
    "encoders = ['queryEncoder','documentEncoder']\n",
    "\n",
    "for encoder in encoders:\n",
    "    response = lambda_.create_function(\n",
    "    FunctionName=encoder,\n",
    "    Runtime='python3.9',\n",
    "    Role=lambda_iam_role_arn,\n",
    "    Handler='main_'+encoder+'.handler',\n",
    "    Code={\n",
    "        \n",
    "        'S3Bucket': s3_bucket,\n",
    "        'S3Key': encoder+'.zip',\n",
    "        \n",
    "    },\n",
    "    Timeout=900,\n",
    "    MemorySize=512,\n",
    "    Environment={\n",
    "        'Variables': env_variables\n",
    "    }\n",
    "    )\n",
    "    print(response['FunctionArn'])\n",
    "    documentEncoder = response['FunctionArn']"
   ]
  },
  {
   "cell_type": "markdown",
   "id": "f2bc453b",
   "metadata": {},
   "source": [
    "### 4.4 Create external URL for queryEncoder Lambda"
   ]
  },
  {
   "cell_type": "code",
   "execution_count": 11,
   "id": "851f58e2",
   "metadata": {},
   "outputs": [
    {
     "data": {
      "text/plain": [
       "'https://6ssuypl2tj3k5v7x4tgh2zlbbm0ukude.lambda-url.us-east-1.on.aws/'"
      ]
     },
     "execution_count": 11,
     "metadata": {},
     "output_type": "execute_result"
    }
   ],
   "source": [
    "response = lambda_.add_permission(\n",
    "    FunctionName='queryEncoder',\n",
    "    StatementId='queryEncoder_permissions',\n",
    "    Action=\"lambda:InvokeFunctionUrl\",\n",
    "    Principal=documentEncoder.split(':')[4],\n",
    "    FunctionUrlAuthType='AWS_IAM'\n",
    ")\n",
    "\n",
    "response = lambda_.create_function_url_config(\n",
    "    FunctionName='queryEncoder',\n",
    "    AuthType='AWS_IAM',\n",
    "    Cors={\n",
    "        'AllowCredentials': True,\n",
    "\n",
    "        'AllowMethods':[\"*\"],\n",
    "        'AllowOrigins': [\"*\"]\n",
    "\n",
    "    },\n",
    "    InvokeMode='RESPONSE_STREAM'\n",
    ")\n",
    "\n",
    "query_invoke_URL = response['FunctionUrl']\n",
    "query_invoke_URL"
   ]
  },
  {
   "cell_type": "markdown",
   "id": "8fc4b86f",
   "metadata": {},
   "source": [
    "## 5. Host the Chat Application on Ec2"
   ]
  },
  {
   "attachments": {},
   "cell_type": "markdown",
   "id": "e9170aa9",
   "metadata": {},
   "source": [
    "<div>\n",
    "<img src=\"module1/webserver.png\" width=\"600\"/>\n",
    "</div>"
   ]
  },
  {
   "cell_type": "markdown",
   "id": "8d938cfd",
   "metadata": {},
   "source": [
    "## 5.1 Copy the webapp code artefacts to ec2"
   ]
  },
  {
   "cell_type": "code",
   "execution_count": 19,
   "id": "39258aaa",
   "metadata": {},
   "outputs": [
    {
     "name": "stdout",
     "output_type": "stream",
     "text": [
      "updating: api.py (deflated 56%)\n",
      "updating: app.py (deflated 65%)\n",
      "updating: images/ (stored 0%)\n",
      "updating: pdfs/ (stored 0%)\n",
      "updating: images/opensearch-twitter-card.png (deflated 5%)\n",
      "updating: images/user-icon.png (stored 0%)\n",
      "updating: images/ai-icon.png (stored 0%)\n",
      "updating: pdfs/OpenSearchFAQ.pdf (deflated 50%)\n",
      "updating: pdfs/OpenSearch_best_practices.pdf (deflated 64%)\n",
      "updating: pdfs/sample.pdf (deflated 50%)\n",
      "upload: ./webapp.zip to s3://semantic-search-gpu-s3buckethosting-h5ih9fpt8gtc/webapp.zip\n",
      "\n",
      "ec2_instance_id: i-07731b4404d849021\n"
     ]
    }
   ],
   "source": [
    "#push the webapp code archive to s3\n",
    "\n",
    "!cd webapp && zip -r ../webapp.zip *\n",
    "!aws s3 cp webapp.zip s3://$s3_bucket\n",
    "    \n",
    "response = cfn.describe_stack_resources(\n",
    "    StackName=stackname\n",
    ")\n",
    "for resource in response['StackResources']:\n",
    "    if(resource['ResourceType'] == 'AWS::EC2::Instance'):\n",
    "        ec2_instance_id = resource['PhysicalResourceId']\n",
    "\n",
    "query_invoke_URL_cmd = query_invoke_URL.replace(\"/\",\"\\/\")#query_invoke_URL\n",
    "print(\"\\nec2_instance_id: \"+ec2_instance_id)"
   ]
  },
  {
   "cell_type": "markdown",
   "id": "1f4c7a3d",
   "metadata": {},
   "source": [
    "## 5.2 Execute ssh comands in ec2 terminal to start the app"
   ]
  },
  {
   "cell_type": "code",
   "execution_count": 20,
   "id": "d9345918",
   "metadata": {
    "scrolled": true
   },
   "outputs": [
    {
     "name": "stdout",
     "output_type": "stream",
     "text": [
      "InProgress\n",
      "---------\n",
      " The webserver is up and running\n"
     ]
    }
   ],
   "source": [
    "# function to execute commands in ec2 terminal\n",
    "def execute_commands_on_linux_instances(client, commands):\n",
    "    resp = client.send_command(\n",
    "        DocumentName=\"AWS-RunShellScript\", # One of AWS' preconfigured documents\n",
    "        Parameters={'commands': commands},\n",
    "        InstanceIds=[ec2_instance_id],\n",
    "    )\n",
    "    return resp['Command']['CommandId']\n",
    "\n",
    "\n",
    "ssm_client = boto3.client('ssm') \n",
    "\n",
    "query_invoke_URL_cmd = query_invoke_URL.replace(\"/\",\"\\/\")\n",
    "\n",
    "commands = [\n",
    "            'aws s3 cp s3://'+s3_bucket+'/webapp.zip /home/ec2-user/',\n",
    "            'unzip -o /home/ec2-user/webapp.zip -d /home/ec2-user/'  ,      \n",
    "            'sudo chmod -R 0777 /home/ec2-user/',\n",
    "            'aws s3 cp /home/ec2-user/pdfs s3://'+s3_bucket+'/sample_pdfs/ --recursive',\n",
    "            'sudo sed -i \"s/API_URL_TO_BE_REPLACED/'+query_invoke_URL_cmd+'/g\" /home/ec2-user/api.py',\n",
    "            'sudo sed -i \"s/pdf-repo-uploads/'+s3_bucket+'/g\" /home/ec2-user/app.py',\n",
    "            'python3 -m venv /home/ec2-user/.myenv',\n",
    "            'source /home/ec2-user/.myenv/bin/activate',\n",
    "            'pip install streamlit',\n",
    "            'pip install boto3',\n",
    "    \n",
    "            #start the web applicaiton\n",
    "            'streamlit run /home/ec2-user/app.py',\n",
    "            \n",
    "            ]\n",
    "\n",
    "command_id = execute_commands_on_linux_instances(ssm_client, commands)\n",
    "\n",
    "time.sleep(3)\n",
    "\n",
    "response = ssm_client.get_command_invocation(\n",
    "    CommandId=command_id,\n",
    "    InstanceId=ec2_instance_id\n",
    ")\n",
    "print(response['Status'])\n",
    "print('---------')\n",
    "print(response['StandardOutputContent']+\" The webserver is up and running\")\n"
   ]
  },
  {
   "cell_type": "markdown",
   "id": "f929abec",
   "metadata": {},
   "source": [
    "### 5.2 check the ec2 ports which runs the app"
   ]
  },
  {
   "cell_type": "code",
   "execution_count": 22,
   "id": "915f0972",
   "metadata": {},
   "outputs": [
    {
     "name": "stdout",
     "output_type": "stream",
     "text": [
      "Success\n",
      "---------\n",
      "streamlit 2225            root    9u  IPv4  20247      0t0  TCP *:8501 (LISTEN)\n",
      "streamlit 2225            root   10u  IPv6  20248      0t0  TCP *:8501 (LISTEN)\n",
      "\n",
      "\n"
     ]
    }
   ],
   "source": [
    "#check the status of the applicaiton\n",
    "commands = [\n",
    "            \"sudo lsof -i -P -n | grep streamlit\"\n",
    "             ]\n",
    "\n",
    "command_id = execute_commands_on_linux_instances(ssm_client, commands)\n",
    "\n",
    "time.sleep(3)\n",
    "\n",
    "response = ssm_client.get_command_invocation(\n",
    "    CommandId=command_id,\n",
    "    InstanceId=ec2_instance_id\n",
    ")\n",
    "print(response['Status'])\n",
    "print('---------')\n",
    "print(response['StandardOutputContent'])\n",
    "print(response['StandardErrorContent'])\n"
   ]
  },
  {
   "cell_type": "markdown",
   "id": "a90879af",
   "metadata": {},
   "source": [
    "### 5.3 Open the app using ec2 public DNS"
   ]
  },
  {
   "cell_type": "code",
   "execution_count": 25,
   "id": "49e51ae9",
   "metadata": {},
   "outputs": [
    {
     "name": "stdout",
     "output_type": "stream",
     "text": [
      "http://52.200.167.77:8501\n"
     ]
    }
   ],
   "source": [
    "ec2_ = boto3.client('ec2')\n",
    "response = ec2_.describe_instances(\n",
    "    InstanceIds=[ec2_instance_id]\n",
    ")\n",
    "public_ip = response['Reservations'][0]['Instances'][0]['PublicIpAddress']\n",
    "print('http://'+public_ip+\":8501\")"
   ]
  },
  {
   "cell_type": "code",
   "execution_count": null,
   "id": "5074d809",
   "metadata": {},
   "outputs": [],
   "source": []
  }
 ],
 "metadata": {
  "kernelspec": {
   "display_name": "conda_pytorch_p310",
   "language": "python",
   "name": "conda_pytorch_p310"
  },
  "language_info": {
   "codemirror_mode": {
    "name": "ipython",
    "version": 3
   },
   "file_extension": ".py",
   "mimetype": "text/x-python",
   "name": "python",
   "nbconvert_exporter": "python",
   "pygments_lexer": "ipython3",
   "version": "3.10.12"
  }
 },
 "nbformat": 4,
 "nbformat_minor": 5
}
