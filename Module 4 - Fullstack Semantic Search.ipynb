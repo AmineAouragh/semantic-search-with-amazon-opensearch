{
 "cells": [
  {
   "cell_type": "markdown",
   "id": "56a7ad65",
   "metadata": {},
   "source": [
    "# Full Stack Semantic Search Web Application"
   ]
  },
  {
   "cell_type": "markdown",
   "id": "97110a8a",
   "metadata": {},
   "source": [
    "In the previous modules, we've demonstrated both keyword and semantic search with OpenSearch. In this module, we will now create a search enabled application using a sage maker endpoint and a serverless web application.\n",
    "\n",
    "By the end of this module, the architecture will look as follows:\n",
    "\n",
    "![full stack semantic search](semantic_search_fullstack.jpg)"
   ]
  },
  {
   "cell_type": "markdown",
   "id": "59953fa5",
   "metadata": {},
   "source": [
    "### 1.Import PyTorch and check version.\n",
    "\n",
    "As in the previous modules, let's import PyTorch and confirm that have have the latest version of PyTorch. The version should already be 1.10.2 or higher."
   ]
  },
  {
   "cell_type": "code",
   "execution_count": null,
   "id": "b8f7f23d",
   "metadata": {},
   "outputs": [],
   "source": [
    "import torch\n",
    "print(torch.__version__)"
   ]
  },
  {
   "cell_type": "markdown",
   "id": "8243d70a",
   "metadata": {},
   "source": [
    "If the PyTorch version is 1.10.2 or higher, you can skip to step 2.\n",
    "\n",
    "If the PyTorch version is not 1.10.2 or higher, we need to update PyTorch and restart the kernel."
   ]
  },
  {
   "cell_type": "code",
   "execution_count": null,
   "id": "28fde9d4",
   "metadata": {},
   "outputs": [],
   "source": [
    "!pip install --upgrade torch"
   ]
  },
  {
   "cell_type": "code",
   "execution_count": null,
   "id": "9c60b9ca",
   "metadata": {},
   "outputs": [],
   "source": [
    "from IPython.display import display_html\n",
    "def restartkernel() :\n",
    "    display_html(\"<script>Jupyter.notebook.kernel.restart()</script>\",raw=True)\n",
    "restartkernel()"
   ]
  },
  {
   "cell_type": "markdown",
   "id": "ca9a8fd1",
   "metadata": {},
   "source": [
    "Let's recheck the version of Torch to ensure everything is up to date. The version should be 1.10.2 or higher."
   ]
  },
  {
   "cell_type": "code",
   "execution_count": null,
   "id": "8333bede",
   "metadata": {},
   "outputs": [],
   "source": [
    "import torch\n",
    "print(torch.__version__)"
   ]
  },
  {
   "cell_type": "markdown",
   "id": "a9269241",
   "metadata": {},
   "source": [
    "### 2. Initialize boto3\n",
    "\n",
    "We will use boto3 to interact with other AWS services.\n",
    "\n",
    "Note: You can ignore any PythonDeprecationWarning warnings."
   ]
  },
  {
   "cell_type": "code",
   "execution_count": null,
   "id": "4d4de188",
   "metadata": {},
   "outputs": [],
   "source": [
    "import boto3\n",
    "import re\n",
    "import time\n",
    "import sagemaker\n",
    "from sagemaker import get_execution_role\n",
    "\n",
    "role = get_execution_role()\n",
    "\n",
    "s3_resource = boto3.resource(\"s3\")\n",
    "s3 = boto3.client('s3')\n"
   ]
  },
  {
   "cell_type": "markdown",
   "id": "552caa3d",
   "metadata": {},
   "source": [
    "### 3. Get Cloud Formation stack output variables\n",
    "\n",
    "We also need to grab some key values from the infrastructure we provisioned using CloudFormation. To do this, we will list the outputs from the stack and store this in \"outputs\" to be used later.\n",
    "\n",
    "#### Note : The following refers the stack by name. If you didn't use the default stack name, please update the value of \"cloudformation_stack_name\" to the Cloud Formation stack name you specified when you provisioned your environment.\n",
    "\n",
    "You can ignore any \"PythonDeprecationWarning\" warnings."
   ]
  },
  {
   "cell_type": "code",
   "execution_count": null,
   "id": "66af8a67",
   "metadata": {},
   "outputs": [],
   "source": [
    "cfn = boto3.client('cloudformation')\n",
    "\n",
    "def get_cfn_outputs(stackname):\n",
    "    outputs = {}\n",
    "    for output in cfn.describe_stacks(StackName=stackname)['Stacks'][0]['Outputs']:\n",
    "        outputs[output['OutputKey']] = output['OutputValue']\n",
    "    return outputs\n",
    "\n",
    "## Setup variables to use for the rest of the demo\n",
    "cloudformation_stack_name = \"static-cloudformation-semantic-search\"\n",
    "\n",
    "outputs = get_cfn_outputs(cloudformation_stack_name)\n",
    "\n",
    "bucket = outputs['s3BucketTraining']\n",
    "aos_host = outputs['OpenSearchDomainEndpoint']\n",
    "\n",
    "outputs"
   ]
  },
  {
   "cell_type": "markdown",
   "id": "c3db6138",
   "metadata": {},
   "source": [
    "### 4. Save pre-trained BERT model to S3\n",
    "\n",
    "First off, we will host a pretrained BERT model in a SageMaker Pytorch model server to generate 768x1 dimension fixed length sentence embedding from [sentence-transformers](https://github.com/UKPLab/sentence-transformers) using [HuggingFace Transformers](https://huggingface.co/sentence-transformers/distilbert-base-nli-stsb-mean-tokens). \n",
    "\n",
    "This SageMaker endpoint will be called by the application to generate vector data for the search query. First we'll get a pre-trained model and upload to S3"
   ]
  },
  {
   "cell_type": "code",
   "execution_count": null,
   "id": "b01b999e",
   "metadata": {},
   "outputs": [],
   "source": [
    "#!pip install -q transformers\n",
    "#!pip install -q boto3\n",
    "#!pip install -q requests\n",
    "#!pip install -q requests-aws4auth\n",
    "#!pip install -q opensearch-py\n",
    "#!pip install -q tqdm\n",
    "#!pip install -q install transformers[torch]\n",
    "#!pip install -U sentence-transformers rank_bm25\n",
    "!pip install -q transformers\n",
    "import torch\n",
    "from transformers import AutoTokenizer, AutoModel\n",
    "from transformers import DistilBertTokenizer, DistilBertModel\n",
    "import os\n",
    "from transformers import AutoTokenizer, AutoModel\n",
    "\n",
    "model_name = \"sentence-transformers/distilbert-base-nli-stsb-mean-tokens\"\n",
    "saved_model_dir = 'transformer'\n",
    "os.makedirs(saved_model_dir, exist_ok=True)\n",
    "\n",
    "tokenizer = AutoTokenizer.from_pretrained(model_name)\n",
    "model = AutoModel.from_pretrained(model_name) \n",
    "\n",
    "tokenizer.save_pretrained(saved_model_dir)\n",
    "model.save_pretrained(saved_model_dir)"
   ]
  },
  {
   "cell_type": "markdown",
   "id": "93b46844",
   "metadata": {},
   "source": [
    "Create a SageMaker session and get the execution role to be used later."
   ]
  },
  {
   "cell_type": "code",
   "execution_count": null,
   "id": "a1ec5285",
   "metadata": {},
   "outputs": [],
   "source": [
    "sagemaker_session = sagemaker.Session()\n",
    "role = sagemaker.get_execution_role()\n"
   ]
  },
  {
   "cell_type": "markdown",
   "id": "81ed262b",
   "metadata": {},
   "source": [
    "Unpack the model"
   ]
  },
  {
   "cell_type": "code",
   "execution_count": null,
   "id": "429ebeaa",
   "metadata": {},
   "outputs": [],
   "source": [
    "!cd transformer && tar czvf ../model.tar.gz *"
   ]
  },
  {
   "cell_type": "markdown",
   "id": "73d31847",
   "metadata": {},
   "source": [
    "And finally upload the model to S3."
   ]
  },
  {
   "cell_type": "code",
   "execution_count": null,
   "id": "55f2011c",
   "metadata": {},
   "outputs": [],
   "source": [
    "inputs = sagemaker_session.upload_data(path='model.tar.gz', key_prefix='sentence-transformers-model')\n",
    "inputs"
   ]
  },
  {
   "cell_type": "markdown",
   "id": "d2558323",
   "metadata": {},
   "source": [
    "### 5. Create PyTorch Model Object\n",
    "\n",
    "Next we need to create a PyTorchModel object. The deploy() method on the model object creates an endpoint which serves prediction requests in real-time. If the instance_type is set to a SageMaker instance type (e.g. ml.m5.large) then the model will be deployed on SageMaker. If the instance_type parameter is set to local then it will be deployed locally as a Docker container and ready for testing locally.\n",
    "\n",
    "We need to create a Predictor class to accept TEXT as input and output JSON. The default behaviour is to accept a numpy array."
   ]
  },
  {
   "cell_type": "code",
   "execution_count": null,
   "id": "a1c7b604",
   "metadata": {},
   "outputs": [],
   "source": [
    "from sagemaker.pytorch import PyTorch, PyTorchModel\n",
    "from sagemaker.predictor import Predictor\n",
    "from sagemaker import get_execution_role\n",
    "\n",
    "class StringPredictor(Predictor):\n",
    "    def __init__(self, endpoint_name, sagemaker_session):\n",
    "        super(StringPredictor, self).__init__(endpoint_name, sagemaker_session, content_type='text/plain')"
   ]
  },
  {
   "cell_type": "markdown",
   "id": "36aa5dc9",
   "metadata": {},
   "source": [
    "### 6. Deploy the BERT model to SageMaker Endpoint\n",
    "Now that we have the predictor class, let's deploy a SageMaker endpoint for our application to invoke.\n",
    "\n",
    "#### Note: This process will take serveral minutes to complete.\n",
    "\n",
    "You can ignore the \"content_type is a no-op in sagemaker>=2\" warning."
   ]
  },
  {
   "cell_type": "code",
   "execution_count": null,
   "id": "2ce54d70",
   "metadata": {},
   "outputs": [],
   "source": [
    "pytorch_model = PyTorchModel(model_data = inputs, \n",
    "                             role=role, \n",
    "                             entry_point ='inference.py',\n",
    "                             source_dir = './code',\n",
    "                             py_version = 'py38', \n",
    "                             framework_version = '1.10.2',\n",
    "                             predictor_cls=StringPredictor)\n",
    "\n",
    "predictor = pytorch_model.deploy(instance_type='ml.m5d.large', \n",
    "                                 initial_instance_count=1, \n",
    "                                 endpoint_name = f'semantic-search-model-{int(time.time())}')"
   ]
  },
  {
   "cell_type": "markdown",
   "id": "ca0c6b0e",
   "metadata": {},
   "source": [
    "### 7. Test the SageMaker Endpoint.\n",
    "\n",
    "Now that the endpoint is created, let's quickly test it out."
   ]
  },
  {
   "cell_type": "code",
   "execution_count": null,
   "id": "3ca72a1c",
   "metadata": {},
   "outputs": [],
   "source": [
    "import json\n",
    "original_payload = 'Does this work with xbox?'\n",
    "features = predictor.predict(original_payload)\n",
    "vector_data = json.loads(features)\n",
    "\n",
    "vector_data"
   ]
  },
  {
   "cell_type": "markdown",
   "id": "72bc4986",
   "metadata": {},
   "source": [
    "----\n",
    "\n",
    "# Deploying a full-stack semantic search application\n",
    "\n",
    "We are now ready to build a real-world full-stack ML-powered web app. The Serverless Application Model (SAM) template we create below will deploy an Amazon API Gateway and AWS Lambda function. The Lambda function runs your code in response to HTTP requests that are sent to the API Gateway."
   ]
  },
  {
   "cell_type": "markdown",
   "id": "6cdf7d9d",
   "metadata": {},
   "source": [
    "### 7. Build lambda zip file\n",
    "\n",
    "First, we need to package our lambda function for deployment."
   ]
  },
  {
   "cell_type": "code",
   "execution_count": null,
   "id": "cee2ef3a",
   "metadata": {},
   "outputs": [],
   "source": [
    "%cd backend/lambda\n",
    "!sh build-lambda.sh\n",
    "!unzip -l lambda.zip\n",
    "%cd /home/ec2-user/SageMaker/semantic-search-with-amazon-opensearch"
   ]
  },
  {
   "cell_type": "markdown",
   "id": "e3e8afc0",
   "metadata": {},
   "source": [
    "Upload the packaged Lambda zip file to S3"
   ]
  },
  {
   "cell_type": "code",
   "execution_count": null,
   "id": "d29e78b4",
   "metadata": {},
   "outputs": [],
   "source": [
    "s3_resource.Object(bucket, 'lambda/lambda.zip').upload_file('./backend/lambda/lambda.zip',ExtraArgs={'ACL':'public-read'})\n",
    "lambda_zip_url = f'{bucket}'\n",
    "print(\"lambada zip file url: \" + lambda_zip_url)"
   ]
  },
  {
   "cell_type": "markdown",
   "id": "732527fc",
   "metadata": {},
   "source": [
    "### 8. Deploy a CloudFormation stack to create API Gateway and Lambda function\n",
    "\n",
    "Next, we'll create a link to deploy a CloudFormation stack for our SAM application. Execute the following, then click on the link generated - this will open a new tab. Mark all the checkboxes at the end of the form and click Create Stack."
   ]
  },
  {
   "cell_type": "code",
   "execution_count": null,
   "id": "6b740e9a",
   "metadata": {},
   "outputs": [],
   "source": [
    "s3_resource.Object(bucket, 'backend/template.yaml').upload_file('./backend/template.yaml', ExtraArgs={'ACL':'public-read'})\n",
    "\n",
    "\n",
    "sam_template_url = f'https://{bucket}.s3.amazonaws.com/backend/template.yaml'\n",
    "print(\"cloudformation template url:\" + sam_template_url)\n",
    "\n",
    "\n",
    "# Generate the CloudFormation Quick Create Link\n",
    "\n",
    "print(\"Click the URL below to create the backend API for NLU search:\\n\")\n",
    "print((\n",
    "    'https://console.aws.amazon.com/cloudformation/home?region=us-east-1#/stacks/create/review'\n",
    "    f'?templateURL={sam_template_url}'\n",
    "    '&stackName=semantic-search-api'\n",
    "    f'&param_BucketName={outputs[\"s3BucketTraining\"]}'\n",
    "    f'&param_DomainName={outputs[\"OpenSearchDomainName\"]}'\n",
    "    f'&param_ElasticSearchURL={outputs[\"OpenSearchDomainEndpoint\"]}'\n",
    "    f'&param_SagemakerEndpoint={predictor.endpoint}'\n",
    "    f'&param_LambdaZipFile={lambda_zip_url}'\n",
    "))"
   ]
  },
  {
   "cell_type": "markdown",
   "id": "868f555e",
   "metadata": {},
   "source": [
    "After clicking above link, you will be redirected to deploy CloudFormation page. Scroll down to the bottom of the page and check 3 checkbox and click \"Create stack\" button to create the CloudFormation stack.\n",
    "![deploy-semantic-search-backend-cloudformation](deploy-semantic-search-backend-cloudformation.jpg)"
   ]
  },
  {
   "cell_type": "markdown",
   "id": "9f2974d4",
   "metadata": {},
   "source": [
    "### 9. Wait for the CloudFormation stack to complete.\n",
    "Before proceeding further, wait for the CloudFormation stack to become complete. The status should change to \"CREATE_COMPLETE\".\n",
    "\n",
    "### 10. Update the front end config\n",
    "\n",
    "Next, we need to update the config of the front end with the API values."
   ]
  },
  {
   "cell_type": "code",
   "execution_count": null,
   "id": "fc0c9591",
   "metadata": {},
   "outputs": [],
   "source": [
    "import json\n",
    "api_endpoint = get_cfn_outputs('semantic-search-api')['TextSimilarityApi']\n",
    "\n",
    "with open('./frontend/src/config/config.json', 'w') as outfile:\n",
    "    json.dump({'apiEndpoint': api_endpoint}, outfile)"
   ]
  },
  {
   "cell_type": "markdown",
   "id": "f54e5a22",
   "metadata": {},
   "source": [
    "### 11. Deploy frontend services\n",
    "\n",
    "Now that we've updated the configuration, we need to build and deploy our front end."
   ]
  },
  {
   "cell_type": "code",
   "execution_count": null,
   "id": "cb2aa36f",
   "metadata": {},
   "outputs": [],
   "source": [
    "# add NPM to the path so we can assemble the web frontend from our notebook code\n",
    "\n",
    "from os import environ\n",
    "\n",
    "npm_path = ':/home/ec2-user/anaconda3/envs/JupyterSystemEnv/bin'\n",
    "\n",
    "if npm_path not in environ['PATH']:\n",
    "    ADD_NPM_PATH = environ['PATH']\n",
    "    ADD_NPM_PATH = ADD_NPM_PATH + npm_path\n",
    "else:\n",
    "    ADD_NPM_PATH = environ['PATH']\n",
    "    \n",
    "%set_env PATH=$ADD_NPM_PATH"
   ]
  },
  {
   "cell_type": "code",
   "execution_count": null,
   "id": "085e3060",
   "metadata": {},
   "outputs": [],
   "source": [
    "%cd ./frontend/\n",
    "\n",
    "!npm install"
   ]
  },
  {
   "cell_type": "code",
   "execution_count": null,
   "id": "f7f3c101",
   "metadata": {},
   "outputs": [],
   "source": [
    "!npm run-script build"
   ]
  },
  {
   "cell_type": "code",
   "execution_count": null,
   "id": "09c74e27",
   "metadata": {},
   "outputs": [],
   "source": [
    "hosting_bucket = f\"s3://{outputs['s3BucketHostingBucketName']}\"\n",
    "\n",
    "!aws s3 sync ./build/ $hosting_bucket --acl public-read"
   ]
  },
  {
   "cell_type": "markdown",
   "id": "1c9a6865",
   "metadata": {},
   "source": [
    "### 12. Browse to the application\n",
    "\n",
    "Now that the application is deployed, let's browse to the front end and test it out. Execute the following and click on the link generated."
   ]
  },
  {
   "cell_type": "code",
   "execution_count": null,
   "id": "d44089c3",
   "metadata": {},
   "outputs": [],
   "source": [
    "print('Click the URL below:\\n')\n",
    "print(outputs['S3BucketSecureURL'] + '/index.html')"
   ]
  },
  {
   "cell_type": "markdown",
   "id": "8e2cd10a",
   "metadata": {},
   "source": [
    "After opeing above link, you will see semantic search web page. You can search the question, for example \"does this work with xbox?\", compare the search result. you will see the difference between keyword search and semantic search.\n",
    "\n",
    "![full stack semantic search](full-stack-semantic-search-ui.jpg)\n",
    "\n",
    "In keyword search, some questions like \"Does this work for a switch?\", \"does this work with pc\" which include \"does this work\" are searched however the meaning is totally different with query.\n",
    "\n",
    "In semantic search, some questions like \"Do I need to buy anything extra to used in xbox one s controller?\", \"How do these headphones connect to the Xbox360 controller?\" are searched. The meaning is very close to the query.\n",
    "![full stack semantic search](full-stack-semantic-search-ui-2.jpg)"
   ]
  },
  {
   "cell_type": "markdown",
   "id": "a48e08f8",
   "metadata": {},
   "source": [
    "## Cleanup\n",
    "\n",
    "If you are running this workshop from a Workshop Studio AWS account provided to you by AWS, resources will be automatically cleaned up at the end of the event. However, if you are runnign this workshop in your own account, make sure that you stop the notebook instance, delete the Amazon SageMaker endpoint and delete the Elasticsearch domain to prevent any additional charges."
   ]
  },
  {
   "cell_type": "code",
   "execution_count": null,
   "id": "55179e22",
   "metadata": {},
   "outputs": [],
   "source": [
    "# Delete the endpoint\n",
    "predictor.delete_endpoint()\n",
    "\n",
    "# Empty S3 Contents\n",
    "training_bucket_resource = s3_resource.Bucket(bucket)\n",
    "training_bucket_resource.objects.all().delete()\n",
    "\n",
    "hosting_bucket_resource = s3_resource.Bucket(outputs['s3BucketHostingBucketName'])\n",
    "hosting_bucket_resource.objects.all().delete()"
   ]
  }
 ],
 "metadata": {
  "kernelspec": {
   "display_name": "conda_pytorch_latest_p36",
   "language": "python",
   "name": "conda_pytorch_latest_p36"
  },
  "language_info": {
   "codemirror_mode": {
    "name": "ipython",
    "version": 3
   },
   "file_extension": ".py",
   "mimetype": "text/x-python",
   "name": "python",
   "nbconvert_exporter": "python",
   "pygments_lexer": "ipython3",
   "version": "3.6.13"
  }
 },
 "nbformat": 4,
 "nbformat_minor": 5
}
